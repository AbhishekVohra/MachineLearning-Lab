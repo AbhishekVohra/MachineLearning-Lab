{
 "cells": [
  {
   "cell_type": "markdown",
   "id": "bce444dd",
   "metadata": {},
   "source": [
    "<h1 align=\"center\">Assignment - 1</h1>\n",
    "<br><br>\n",
    "\n",
    "\n",
    "<h3 align = \"left\">\n",
    "Abhishek Vohra <br></h3>\n",
    "\n",
    "\n"
   ]
  },
  {
   "cell_type": "markdown",
   "id": "3009c707",
   "metadata": {},
   "source": [
    "### Q1 (a)"
   ]
  },
  {
   "cell_type": "code",
   "execution_count": 1,
   "id": "439a28ff",
   "metadata": {},
   "outputs": [
    {
     "name": "stdout",
     "output_type": "stream",
     "text": [
      "Reversed Array :  [5 4 6 3 2 1]\n"
     ]
    }
   ],
   "source": [
    "import numpy as np\n",
    "\n",
    "arr = np.array([1,2,3,6,4,5])\n",
    "newArray = np.flipud(arr)\n",
    "\n",
    "print(\"Reversed Array : \",newArray)\n",
    "\n"
   ]
  },
  {
   "cell_type": "markdown",
   "id": "07371f11",
   "metadata": {},
   "source": [
    "### Q1 (b)"
   ]
  },
  {
   "cell_type": "code",
   "execution_count": null,
   "id": "bf92672c",
   "metadata": {},
   "outputs": [],
   "source": [
    "import numpy as np\n",
    "\n",
    "array1 = np.array([[1, 2, 3], [2, 4, 5], [1, 2, 3]])\n",
    "\n",
    "# Method - 1 (using flatten method)\n",
    "# Row Major Flattening\n",
    "array2 = array1.flatten('C')\n",
    "print(array2)\n",
    "\n",
    "# Column Major Flattening\n",
    "array3 = array1.flatten('F')\n",
    "print(array3)\n",
    "\n",
    "\n",
    "# Method - 2 (using reshape method)\n",
    "array4 = array1.reshape(-1)\n",
    "print(array4)\n",
    "\n"
   ]
  },
  {
   "cell_type": "markdown",
   "id": "f7de382a",
   "metadata": {},
   "source": [
    "### Q1 (c)"
   ]
  },
  {
   "cell_type": "code",
   "execution_count": 3,
   "id": "5fe529bb",
   "metadata": {},
   "outputs": [
    {
     "name": "stdout",
     "output_type": "stream",
     "text": [
      "Array 1 = [[1 2]\n",
      " [3 4]]\n",
      "Array 2 = [[1 2]\n",
      " [3 4]]\n",
      "arr1 > arr2\n",
      "[[False False]\n",
      " [False False]]\n",
      "arr1 >= arr2\n",
      "[[ True  True]\n",
      " [ True  True]]\n",
      "arr1 < arr2\n",
      "[[False False]\n",
      " [False False]]\n",
      "arr1 <= arr2\n",
      "[[ True  True]\n",
      " [ True  True]]\n",
      "arr1 = arr2\n",
      "[[ True  True]\n",
      " [ True  True]]\n",
      "arr1 == arr2\n"
     ]
    }
   ],
   "source": [
    "import numpy as np\n",
    "\n",
    "arr1 = np.array([[1, 2], [3, 4]])\n",
    "arr2 = np.array([[1, 2], [3, 4]])\n",
    "\n",
    "print(f\"Array 1 = {arr1}\")\n",
    "print(f\"Array 2 = {arr2}\")\n",
    "\n",
    "# is greater comparison\n",
    "print(\"arr1 > arr2\")\n",
    "print(np.greater(arr1,arr2))\n",
    "\n",
    "# is greater than equal to comparison\n",
    "print(\"arr1 >= arr2\")\n",
    "print(np.greater_equal(arr1,arr2))\n",
    "\n",
    "# is less than comparison\n",
    "print(\"arr1 < arr2\")\n",
    "print(np.less(arr1,arr2))\n",
    "\n",
    "# is less than equal to comparison\n",
    "print(\"arr1 <= arr2\")\n",
    "print(np.less_equal(arr1,arr2))\n",
    "\n",
    "# is equal to comparison\n",
    "print(\"arr1 = arr2\")\n",
    "print(np.equal(arr1,arr2))\n",
    "\n",
    "\n",
    "# another method to check equality\n",
    "if (np.array_equal(arr1,arr2)):\n",
    "    print(\"arr1 == arr2\")\n",
    "\n",
    "else:\n",
    "    print(\"They are not equal\")\n",
    "\n",
    "\n",
    "\n"
   ]
  },
  {
   "cell_type": "markdown",
   "id": "25263bd0",
   "metadata": {},
   "source": [
    "### Q1 (d)"
   ]
  },
  {
   "cell_type": "code",
   "execution_count": 4,
   "id": "43710d58",
   "metadata": {},
   "outputs": [
    {
     "name": "stdout",
     "output_type": "stream",
     "text": [
      "Most frequently occuring element is =  1\n",
      "Most frequently occuring element is =  1\n"
     ]
    }
   ],
   "source": [
    "import numpy as np\n",
    "\n",
    "# i\n",
    "x = np.array([1,2,3,4,5,1,2,1,1,1])\n",
    "print(\"Most frequently occuring element is = \", np.bincount(x).argmax());\n",
    "\n",
    "# ii\n",
    "y = np.array([1,1,1,2,3,4,2,4,3,3])\n",
    "print(\"Most frequently occuring element is = \", np.bincount(y).argmax());\n"
   ]
  },
  {
   "cell_type": "markdown",
   "id": "b85337f1",
   "metadata": {},
   "source": [
    "### Q1 (e)"
   ]
  },
  {
   "cell_type": "code",
   "execution_count": 5,
   "id": "b56b9c81",
   "metadata": {},
   "outputs": [
    {
     "name": "stdout",
     "output_type": "stream",
     "text": [
      "Sum of all elements of matrix =  45\n",
      "Sum of all Elements Row-wise =  [[14]\n",
      " [16]\n",
      " [15]]\n",
      "Sum of all Elements Columns-wise =  [[20  9 16]]\n"
     ]
    }
   ],
   "source": [
    "import numpy as np\n",
    "\n",
    "gfg = np.matrix('[4,1,9; 12,3,1; 4,5,6]')\n",
    "\n",
    "# (i) Sum Of all Elements\n",
    "print(\"Sum of all elements of matrix = \", gfg.sum())\n",
    "\n",
    "# (ii) Sum of all Elements Row-wise\n",
    "print(\"Sum of all Elements Row-wise = \", gfg.sum(axis=1))\n",
    "\n",
    "# (iii) Sum of all Elements Column-wise\n",
    "print(\"Sum of all Elements Columns-wise = \", gfg.sum(axis=0))"
   ]
  },
  {
   "cell_type": "markdown",
   "id": "16822666",
   "metadata": {},
   "source": [
    "### Q1 (f)"
   ]
  },
  {
   "cell_type": "code",
   "execution_count": 6,
   "id": "d99bd7b7",
   "metadata": {},
   "outputs": [
    {
     "name": "stdout",
     "output_type": "stream",
     "text": [
      "Sum of diagonal elements of the Matrix =  176\n",
      "Eigen Values of the Matrix are =  [98.16835147 28.097044   49.73460452]\n",
      "Eigen Vectors of the Matrix are =  [[ 0.4574917   0.34637121 -0.15017693]\n",
      " [ 0.28447814 -0.72784061 -0.4852124 ]\n",
      " [ 0.84248058  0.59184038  0.8614034 ]]\n",
      "Inverse of Matrix =  [[ 0.02404141 -0.00911212 -0.00444671]\n",
      " [-0.01667882  0.02966905  0.0024785 ]\n",
      " [ 0.00631287 -0.01603732  0.01217379]]\n",
      "Determinant of matrix =  137180.0000000001\n"
     ]
    }
   ],
   "source": [
    "import numpy as np\n",
    "\n",
    "n_array = np.array([[55,25,15],[30,44,2],[11,45,77]])\n",
    "\n",
    "# (i) Sum of diagonal elements\n",
    "print(\"Sum of diagonal elements of the Matrix = \", np.trace(n_array))\n",
    "\n",
    "a, b = np.linalg.eig(n_array)\n",
    "# (ii) Eigen values of matrix\n",
    "print(\"Eigen Values of the Matrix are = \", a)\n",
    "\n",
    "# (iii) Eigen Vectors of the Matrix\n",
    "print(\"Eigen Vectors of the Matrix are = \", b)\n",
    "\n",
    "# (iv) Inverse of the matrix\n",
    "print(\"Inverse of Matrix = \", np.linalg.inv(n_array))\n",
    "\n",
    "# (v) Determinant of the matrix\n",
    "print(\"Determinant of matrix = \", np.linalg.det(n_array))"
   ]
  },
  {
   "cell_type": "markdown",
   "id": "3b5f9085",
   "metadata": {},
   "source": [
    "### Q1 (g)"
   ]
  },
  {
   "cell_type": "code",
   "execution_count": 7,
   "id": "a3169936",
   "metadata": {},
   "outputs": [
    {
     "name": "stdout",
     "output_type": "stream",
     "text": [
      "Product of the two matrices =  [[16 19]\n",
      " [26 31]]\n",
      "Covariance between the two matrices =  [[0.5 0.5 0.5 0.5]\n",
      " [0.5 0.5 0.5 0.5]\n",
      " [0.5 0.5 0.5 0.5]\n",
      " [0.5 0.5 0.5 0.5]]\n",
      "Product of the two matrices =  [[16 19  5]\n",
      " [26 31  8]\n",
      " [46 55 14]]\n"
     ]
    }
   ],
   "source": [
    "import numpy as np\n",
    "\n",
    "# (i)\n",
    "\n",
    "p = [[1,2],[2,3]]\n",
    "q = [[4,5],[6,7]]\n",
    "\n",
    "print(\"Product of the two matrices = \", np.matmul(p,q))\n",
    "\n",
    "print(\"Covariance between the two matrices = \", np.cov(p,q))\n",
    "\n",
    "\n",
    "# (ii)\n",
    "\n",
    "p1 = [[1,2],[2,3],[4,5]]\n",
    "q1 = [[4,5,1],[6,7,2]]\n",
    "\n",
    "print(\"Product of the two matrices = \", np.matmul(p1,q1))\n",
    "# the line below produces error\n",
    "# because covariance can be calculate for matrices of same dimensions only\n",
    "# print(\"Covariance between the two matrices = \", np.cov(p1,q1))\n"
   ]
  },
  {
   "cell_type": "markdown",
   "id": "a028892e",
   "metadata": {},
   "source": [
    "### Q1 (h)"
   ]
  },
  {
   "cell_type": "code",
   "execution_count": 8,
   "id": "ed23338f",
   "metadata": {},
   "outputs": [
    {
     "name": "stdout",
     "output_type": "stream",
     "text": [
      "Inner Product =  [[17 52]\n",
      " [13 62]]\n",
      "Outer Product =  [[ 2 10  0 10 20  6]\n",
      " [ 3 15  0 15 30  9]\n",
      " [ 4 20  0 20 40 12]\n",
      " [ 3 15  0 15 30  9]\n",
      " [ 2 10  0 10 20  6]\n",
      " [ 9 45  0 45 90 27]]\n",
      "Cartesian Product =  [[-20   4   7]\n",
      " [-84  36  20]]\n"
     ]
    }
   ],
   "source": [
    "import numpy as np\n",
    "\n",
    "x = np.array([[2,3,4],[3,2,9]])\n",
    "y = np.array([[1,5,0],[5,10,3]])\n",
    "\n",
    "# Inner Product\n",
    "print(\"Inner Product = \", np.inner(x,y))\n",
    "\n",
    "# Outer Product\n",
    "print(\"Outer Product = \", np.outer(x,y))\n",
    "\n",
    "# Cartesian Product\n",
    "print(\"Cartesian Product = \", np.cross(x,y))"
   ]
  },
  {
   "cell_type": "markdown",
   "id": "48063716",
   "metadata": {},
   "source": [
    "### Q2 (a)"
   ]
  },
  {
   "cell_type": "code",
   "execution_count": 9,
   "id": "0731f084",
   "metadata": {},
   "outputs": [
    {
     "name": "stdout",
     "output_type": "stream",
     "text": [
      "Element wise absolute value =  [[1 2 3]\n",
      " [4 5 6]]\n",
      "25th percentile along every row :  [-0.5 -5. ]\n",
      "25th percentile along every column :  [-2.75 -0.25 -3.75]\n",
      "50th percentile along every row :  [ 1. -4.]\n",
      "50th percentile along every column :  [-1.5  1.5 -1.5]\n",
      "75th percentile along every row :  [2.  0.5]\n",
      "75th percentile along every column :  [-0.25  3.25  0.75]\n",
      "Mean of each Column :  [-1.5  1.5 -1.5]\n",
      "Mean of each Row :  [-1.5  1.5 -1.5]\n",
      "Median of each Column :  [-1.5  1.5 -1.5]\n",
      "Median of each Row :  [-1.5  1.5 -1.5]\n",
      "Standard Deviation of each Column :  [2.5 3.5 4.5]\n",
      "Standard Deviation of each Row :  [2.5 3.5 4.5]\n"
     ]
    }
   ],
   "source": [
    "import numpy as np\n",
    "\n",
    "array1 = np.array([[1,-2,3],[-4,5,-6]])\n",
    "\n",
    "# (i) element wise absolute value\n",
    "print(\"Element wise absolute value = \", np.absolute(array1))\n",
    "\n",
    "# (ii) Percentile\n",
    "np.ndarray.flatten(array1)\n",
    "\n",
    "\n",
    "print(\"25th percentile along every row : \", np.percentile(array1, 25, axis=1))\n",
    "print(\"25th percentile along every column : \", np.percentile(array1, 25, axis=0))\n",
    "\n",
    "\n",
    "print(\"50th percentile along every row : \", np.percentile(array1, 50, axis=1))\n",
    "print(\"50th percentile along every column : \", np.percentile(array1, 50, axis=0))\n",
    "\n",
    "\n",
    "print(\"75th percentile along every row : \", np.percentile(array1, 75, axis=1))\n",
    "print(\"75th percentile along every column : \", np.percentile(array1, 75, axis=0))\n",
    "\n",
    "\n",
    "# (iii) Mean Median Mode\n",
    "\n",
    "print(\"Mean of each Column : \", np.mean(array1,axis=0))\n",
    "print(\"Mean of each Row : \", np.mean(array1,axis=0))\n",
    "\n",
    "print(\"Median of each Column : \", np.median(array1,axis=0))\n",
    "print(\"Median of each Row : \", np.median(array1,axis=0))\n",
    "\n",
    "print(\"Standard Deviation of each Column : \", np.std(array1,axis=0))\n",
    "print(\"Standard Deviation of each Row : \", np.std(array1,axis=0))"
   ]
  },
  {
   "cell_type": "markdown",
   "id": "d1bd418c",
   "metadata": {},
   "source": [
    "### Q2 (b)"
   ]
  },
  {
   "cell_type": "code",
   "execution_count": 10,
   "id": "6d040163",
   "metadata": {},
   "outputs": [
    {
     "name": "stdout",
     "output_type": "stream",
     "text": [
      "Floor :  [-2. -2. -1.  0.  1.  1.  3.]\n",
      "Ceiling :  [-1. -1. -0.  1.  2.  2.  3.]\n",
      "Truncated Values :  [-1. -1. -0.  0.  1.  1.  3.]\n",
      "Rounded Values :  [-2. -2. -0.  0.  2.  2.  3.]\n"
     ]
    }
   ],
   "source": [
    "import numpy as np\n",
    "\n",
    "a = np.array([-1.8,-1.6,-0.5,0.5,1.6,1.8,3.0])\n",
    "\n",
    "# floor\n",
    "print (\"Floor : \", np.floor(a))\n",
    "\n",
    "# ceiling\n",
    "print (\"Ceiling : \", np.ceil(a))\n",
    "\n",
    "# truncated value\n",
    "print (\"Truncated Values : \", np.trunc(a))\n",
    "\n",
    "# Rounded values\n",
    "print (\"Rounded Values : \", np.round(a))"
   ]
  },
  {
   "cell_type": "markdown",
   "id": "41cb6dea",
   "metadata": {},
   "source": [
    "### Q3 (a)"
   ]
  },
  {
   "cell_type": "code",
   "execution_count": 11,
   "id": "a05c6ae7",
   "metadata": {},
   "outputs": [
    {
     "name": "stdout",
     "output_type": "stream",
     "text": [
      "Sorted array :  [ 10  16  16  52  54  62 453]\n",
      "Indices of sorted array :  [0 3 4 1 5 2 6]\n",
      "4 smallest elements :  [10 16 16 52]\n",
      "5 largest elements :  [ 16  52  54  62 453]\n"
     ]
    }
   ],
   "source": [
    "import numpy as np\n",
    "\n",
    "a = np.array([10,52,62,16,16,54,453])\n",
    "\n",
    "# (i) sorted array\n",
    "print (\"Sorted array : \", np.sort(a))\n",
    "\n",
    "# (ii) indices of sorted array\n",
    "print (\"Indices of sorted array : \", np.argsort(a))\n",
    "\n",
    "# (iii) 4 smallest elements\n",
    "a = np.sort(a)\n",
    "print (\"4 smallest elements : \", a[:4])\n",
    "\n",
    "# (iv) 5 largest elements\n",
    "print (\"5 largest elements : \", a[-5:])"
   ]
  },
  {
   "cell_type": "markdown",
   "id": "2fb15cf1",
   "metadata": {},
   "source": [
    "### Q3 (b)"
   ]
  },
  {
   "cell_type": "code",
   "execution_count": null,
   "id": "806ac8ac",
   "metadata": {},
   "outputs": [],
   "source": [
    "from unicodedata import decimal\n",
    "import numpy as np\n",
    "\n",
    "a = np.array([1.0, 1.2, 2.2, 2.0, 3.0, 2.0])\n",
    "\n",
    "# (i) integer elements only \n",
    "result1 = a[a == a.astype(int)]\n",
    "print (\"Integer Elements only : \", result1)\n",
    "\n",
    "# (ii) float elements only\n",
    "print (\"Float Elements only : \", a[a != a.astype(int)])"
   ]
  },
  {
   "cell_type": "markdown",
   "id": "cd7d651f",
   "metadata": {},
   "source": [
    "### Q4 (a)"
   ]
  },
  {
   "cell_type": "code",
   "execution_count": 16,
   "id": "b6605f86",
   "metadata": {},
   "outputs": [
    {
     "name": "stdout",
     "output_type": "stream",
     "text": [
      "Enter 1 if image is grayscale. Otherwise Enter 2 : 1\n",
      "Data Successfully updated\n"
     ]
    }
   ],
   "source": [
    "from distutils import text_file\n",
    "import numpy as np\n",
    "from PIL import Image\n",
    "\n",
    "def write_pixel(t, handle):\n",
    "    handle.write(\"%d, \"%t)\n",
    "\n",
    "def write_pixel_col(t, handle):\n",
    "    handle.write(\"%d %d, \"%(t[0],t[1]))\n",
    "\n",
    "\n",
    "def img_to_array(path,chroma):\n",
    "    text_file_handle = open(\"out.txt\",\"w\")\n",
    "\n",
    "    im = Image.open(path)\n",
    "\n",
    "    width, height = im.size\n",
    "\n",
    "    for column in range(0,width):\n",
    "        for row in range(0,height):\n",
    "            if (chroma == 1):\n",
    "                write_pixel(im.getpixel((column,row)), text_file_handle)\n",
    "            else:\n",
    "                write_pixel_col(im.getpixel((column,row)), text_file_handle)\n",
    "            text_file_handle.write(\"\\n\")\n",
    "        \n",
    "    print (\"Data Successfully updated\")\n",
    "    text_file_handle.close()\n",
    "\n",
    "\n",
    "path = \"gray.jpg\"\n",
    "chroma = int(input(\"Enter 1 if image is grayscale. Otherwise Enter 2 : \"))\n",
    "\n",
    "img_to_array(path,chroma)\n",
    "\n"
   ]
  },
  {
   "cell_type": "markdown",
   "id": "b60dab7b",
   "metadata": {},
   "source": [
    "### Q4 (b)\n"
   ]
  },
  {
   "cell_type": "markdown",
   "id": "a39ef2a4",
   "metadata": {},
   "source": [
    "The ouput file is loaded in the jupyter notebook. Its in the same directory as the jupyter notebook"
   ]
  }
 ],
 "metadata": {
  "kernelspec": {
   "display_name": "Python 3 (ipykernel)",
   "language": "python",
   "name": "python3"
  },
  "language_info": {
   "codemirror_mode": {
    "name": "ipython",
    "version": 3
   },
   "file_extension": ".py",
   "mimetype": "text/x-python",
   "name": "python",
   "nbconvert_exporter": "python",
   "pygments_lexer": "ipython3",
   "version": "3.9.7"
  }
 },
 "nbformat": 4,
 "nbformat_minor": 5
}
